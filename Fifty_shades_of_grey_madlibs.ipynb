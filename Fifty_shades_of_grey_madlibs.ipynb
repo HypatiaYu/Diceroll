{
 "cells": [
  {
   "cell_type": "code",
   "execution_count": 1,
   "metadata": {},
   "outputs": [
    {
     "name": "stdin",
     "output_type": "stream",
     "text": [
      "What is the name of a body part? foot\n",
      "What is a number? 6\n",
      "What is an Adjective stinky\n",
      "What is a color? pink\n",
      "What is a plural noun cats\n",
      "What is a noun? pen\n",
      "What is a verb squat\n"
     ]
    }
   ],
   "source": [
    "Bodypart = input(\"What is the name of a body part?\")\n",
    "Number = input(\"What is a number?\")\n",
    "Adjective = input(\"What is an Adjective\")\n",
    "Color = input(\"What is a color?\")\n",
    "Plural_nown = input(\"What is a plural noun\")\n",
    "Noun = input(\"What is a noun?\")\n",
    "Verb = input(\"What is a verb\")"
   ]
  },
  {
   "cell_type": "code",
   "execution_count": 5,
   "metadata": {},
   "outputs": [
    {
     "name": "stdout",
     "output_type": "stream",
     "text": [
      "He holds out his foot, and in his foot are 6 stinky pink cats linked with a thick black thread... Inside me! I squat , and all the cats deep in my foot clench. My inner pen is doing the squat of the seven veils \n"
     ]
    }
   ],
   "source": [
    "print(\"He holds out his \" + Bodypart + \", and in his \" + Bodypart + \" are \" + Number + \" \" + Adjective + \" \" + Color + \" \" + Plural_nown + \" linked with a thick black thread... Inside me! I \" + Verb + \" , and all the \" + Plural_nown + \" deep in my \" + Bodypart + \" clench. My inner \" + Noun + \" is doing the \" + Verb + \" of the seven veils \" )"
   ]
  },
  {
   "cell_type": "code",
   "execution_count": null,
   "metadata": {},
   "outputs": [],
   "source": []
  }
 ],
 "metadata": {
  "kernelspec": {
   "display_name": "Python 3",
   "language": "python",
   "name": "python3"
  },
  "language_info": {
   "codemirror_mode": {
    "name": "ipython",
    "version": 3
   },
   "file_extension": ".py",
   "mimetype": "text/x-python",
   "name": "python",
   "nbconvert_exporter": "python",
   "pygments_lexer": "ipython3",
   "version": "3.7.1"
  }
 },
 "nbformat": 4,
 "nbformat_minor": 2
}
