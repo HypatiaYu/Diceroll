{
 "cells": [
  {
   "cell_type": "code",
   "execution_count": 1,
   "metadata": {},
   "outputs": [
    {
     "name": "stdout",
     "output_type": "stream",
     "text": [
      "Think of 3 numbers!\n"
     ]
    }
   ],
   "source": [
    "print(\"Think of 3 numbers!\")"
   ]
  },
  {
   "cell_type": "code",
   "execution_count": 2,
   "metadata": {},
   "outputs": [
    {
     "name": "stdin",
     "output_type": "stream",
     "text": [
      "Number1 3\n",
      "Number2 4\n",
      "Number3 5\n"
     ]
    }
   ],
   "source": [
    "N1 =  input(\"Number1\")\n",
    "N2 = input(\"Number2\")\n",
    "N3 = input(\"Number3\")"
   ]
  },
  {
   "cell_type": "code",
   "execution_count": 4,
   "metadata": {},
   "outputs": [
    {
     "name": "stdout",
     "output_type": "stream",
     "text": [
      "Number3 is the greatest!\n"
     ]
    }
   ],
   "source": [
    "if N1 >N2 and N1 >N3:\n",
    "    print(\"Nmber 1 is the greatest! \")\n",
    "elif N2>N1 and N2 > N3: \n",
    "    print(\"Number 2 is the greatest!\")\n",
    "else: \n",
    "    print(\"Number3 is the greatest!\")"
   ]
  },
  {
   "cell_type": "code",
   "execution_count": null,
   "metadata": {},
   "outputs": [],
   "source": []
  }
 ],
 "metadata": {
  "kernelspec": {
   "display_name": "Python 3",
   "language": "python",
   "name": "python3"
  },
  "language_info": {
   "codemirror_mode": {
    "name": "ipython",
    "version": 3
   },
   "file_extension": ".py",
   "mimetype": "text/x-python",
   "name": "python",
   "nbconvert_exporter": "python",
   "pygments_lexer": "ipython3",
   "version": "3.7.1"
  }
 },
 "nbformat": 4,
 "nbformat_minor": 2
}
