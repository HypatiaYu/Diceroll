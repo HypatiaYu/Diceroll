{
 "cells": [
  {
   "cell_type": "code",
   "execution_count": 1,
   "metadata": {},
   "outputs": [
    {
     "name": "stdout",
     "output_type": "stream",
     "text": [
      "Welcome to build your own adventure!\n"
     ]
    }
   ],
   "source": [
    "print(\"Welcome to build your own adventure!\")"
   ]
  },
  {
   "cell_type": "code",
   "execution_count": 2,
   "metadata": {},
   "outputs": [
    {
     "name": "stdout",
     "output_type": "stream",
     "text": [
      "You see a home\n"
     ]
    }
   ],
   "source": [
    "print(\"You see a home\")"
   ]
  },
  {
   "cell_type": "code",
   "execution_count": 2,
   "metadata": {},
   "outputs": [
    {
     "name": "stdin",
     "output_type": "stream",
     "text": [
      "Open the door? Y/N Y\n"
     ]
    }
   ],
   "source": [
    "Door = input(\"Open the door? Y/N\")"
   ]
  },
  {
   "cell_type": "code",
   "execution_count": 3,
   "metadata": {},
   "outputs": [
    {
     "name": "stdout",
     "output_type": "stream",
     "text": [
      "You open the door an walk in.\n"
     ]
    },
    {
     "name": "stdin",
     "output_type": "stream",
     "text": [
      "Go north or south? N/S N\n",
      "Go east or west? E/W? E\n"
     ]
    },
    {
     "name": "stdout",
     "output_type": "stream",
     "text": [
      "4 4\n"
     ]
    }
   ],
   "source": [
    "if Door == 'N': \n",
    "    print(\"You walk away. Way to be a wimp!\")\n",
    "elif Door == 'Y':\n",
    "    print(\"You open the door an walk in.\")\n",
    "    X=5\n",
    "    Y=3 \n",
    "    NS = input(\"Go north or south? N/S\")\n",
    "    if NS == \"S\":\n",
    "        X +=1\n",
    "    elif NS == 'N':\n",
    "        X -= 1\n",
    "    else: \n",
    "        X += 0\n",
    "            \n",
    "    EW = input(\"Go east or west? E/W?\")\n",
    "    if EW == \"E\":\n",
    "        Y += 1\n",
    "    elif EW == \"W\":\n",
    "        Y -=1\n",
    "    else: \n",
    "        Y += 0\n",
    "        \n",
    " \n",
    "else: \n",
    "    print(\"You need to type N or Y. Try again\")\n",
    "    Door = input(\"Open the door? Y/N\")\n",
    "\n",
    "print(X,Y)\n",
    "\n",
    "Space = [(5,3), (4,3), (3,3), (2, 3), (4, 2), (4, 4)]\n",
    "\n",
    "\n"
   ]
  },
  {
   "cell_type": "code",
   "execution_count": 9,
   "metadata": {},
   "outputs": [
    {
     "name": "stdout",
     "output_type": "stream",
     "text": [
      "4 4\n",
      "True\n",
      "You got eaten by a three headed dog. You die.\n"
     ]
    }
   ],
   "source": [
    "print (X,Y)\n",
    "Wall =[(1,1), (1,2), (1,3), (1,4), (1,5), (2,1), (2,2), (2,4), (2,5), (3,1), (3,2), (3,4), (3,5), (4,1), (4,5), (5,1), (5,2), (5,4), (5,5)]\n",
    "\n",
    "legal = (X,Y) in Space\n",
    "\n",
    "print(legal)\n",
    "\n",
    "if legal == False:\n",
    "    print(\"You hit a wall\")\n",
    "    \n",
    "elif legal == True: \n",
    "    if (X,Y)== (2,4):\n",
    "        print(\"You went into a room full of gold! You are rich!\")\n",
    "    elif (X,Y) == (4,4): \n",
    "        print(\"You got eaten by a three headed dog. You die.\")\n",
    "    elif (X,Y) ==(3,3) or (3,2): \n",
    "        print(\"you are in a corridor\")\n",
    "    elif (X,Y) == (3,4):\n",
    "        print (\"You see two doors. go left or right, or go forward or bakwords?\")\n",
    "    elif (X,Y) ==(5,3):\n",
    "        print(\"You can either leave the mansion or move forward?\")"
   ]
  },
  {
   "cell_type": "code",
   "execution_count": 5,
   "metadata": {},
   "outputs": [
    {
     "name": "stdout",
     "output_type": "stream",
     "text": [
      "[(5, 3), (4, 3), (3, 3), (2, 3), (4, 2), (4, 4)]\n"
     ]
    }
   ],
   "source": [
    "print(Space)"
   ]
  },
  {
   "cell_type": "code",
   "execution_count": 6,
   "metadata": {},
   "outputs": [
    {
     "data": {
      "text/plain": [
       "True"
      ]
     },
     "execution_count": 6,
     "metadata": {},
     "output_type": "execute_result"
    }
   ],
   "source": [
    "(X,Y) in Space"
   ]
  },
  {
   "cell_type": "code",
   "execution_count": null,
   "metadata": {},
   "outputs": [],
   "source": []
  },
  {
   "cell_type": "code",
   "execution_count": null,
   "metadata": {},
   "outputs": [],
   "source": []
  }
 ],
 "metadata": {
  "kernelspec": {
   "display_name": "Python 3",
   "language": "python",
   "name": "python3"
  },
  "language_info": {
   "codemirror_mode": {
    "name": "ipython",
    "version": 3
   },
   "file_extension": ".py",
   "mimetype": "text/x-python",
   "name": "python",
   "nbconvert_exporter": "python",
   "pygments_lexer": "ipython3",
   "version": "3.7.1"
  }
 },
 "nbformat": 4,
 "nbformat_minor": 2
}
