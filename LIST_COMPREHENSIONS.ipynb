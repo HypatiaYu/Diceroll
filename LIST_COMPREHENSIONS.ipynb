{
 "cells": [
  {
   "cell_type": "code",
   "execution_count": 1,
   "metadata": {},
   "outputs": [
    {
     "name": "stdin",
     "output_type": "stream",
     "text": [
      "What is your first number? 2\n",
      "What is your second number? 4\n",
      "What is your third number? 6\n",
      "What is your fourth number? 5\n",
      "What is your fifth number? 3\n"
     ]
    }
   ],
   "source": [
    "### print(\"Think of ten numbers\")\n",
    "num1 = input(\"What is your first number?\")\n",
    "num2 = input(\"What is your second number?\")\n",
    "num3 = input(\"What is your third number?\")\n",
    "num4 = input(\"What is your fourth number?\")\n",
    "num5 = input(\"What is your fifth number?\")\n",
    "numlist = [num1, num2, num3, num4, num5]"
   ]
  },
  {
   "cell_type": "code",
   "execution_count": 5,
   "metadata": {},
   "outputs": [
    {
     "name": "stdout",
     "output_type": "stream",
     "text": [
      "['2', '4', '6']\n"
     ]
    }
   ],
   "source": [
    "evens = []\n",
    "for i in numlist: \n",
    "    if int(i)%2 ==0: \n",
    "        evens.append(i)\n",
    "        \n",
    "print(evens)"
   ]
  },
  {
   "cell_type": "code",
   "execution_count": null,
   "metadata": {},
   "outputs": [],
   "source": []
  }
 ],
 "metadata": {
  "kernelspec": {
   "display_name": "Python 3",
   "language": "python",
   "name": "python3"
  },
  "language_info": {
   "codemirror_mode": {
    "name": "ipython",
    "version": 3
   },
   "file_extension": ".py",
   "mimetype": "text/x-python",
   "name": "python",
   "nbconvert_exporter": "python",
   "pygments_lexer": "ipython3",
   "version": "3.7.1"
  }
 },
 "nbformat": 4,
 "nbformat_minor": 2
}
