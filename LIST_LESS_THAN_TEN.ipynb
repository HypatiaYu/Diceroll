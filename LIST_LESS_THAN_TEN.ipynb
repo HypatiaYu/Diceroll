{
 "cells": [
  {
   "cell_type": "markdown",
   "metadata": {},
   "source": []
  },
  {
   "cell_type": "markdown",
   "metadata": {},
   "source": []
  },
  {
   "cell_type": "markdown",
   "metadata": {},
   "source": [
    "\n"
   ]
  },
  {
   "cell_type": "code",
   "execution_count": 3,
   "metadata": {},
   "outputs": [
    {
     "name": "stdout",
     "output_type": "stream",
     "text": [
      "Think of 5 numbers\n"
     ]
    },
    {
     "name": "stdin",
     "output_type": "stream",
     "text": [
      "What is your first number? 3\n",
      "What is your second number? 9\n",
      "What is your third number? 10\n",
      "What is your fourth number? 5\n",
      "What is your fifth number? 6\n"
     ]
    },
    {
     "name": "stdout",
     "output_type": "stream",
     "text": [
      "3\n"
     ]
    }
   ],
   "source": [
    "print(\"Think of 5 numbers\")\n",
    "num1 = int(input(\"What is your first number?\"))\n",
    "num2 = int(input(\"What is your second number?\"))\n",
    "num3 = int(input(\"What is your third number?\"))\n",
    "num4 = int(input(\"What is your fourth number?\"))\n",
    "num5 = int(input(\"What is your fifth number?\"))\n",
    "Numbers = [num1, num2, num3, num4, num5]\n",
    "\n",
    "for i in Numbers: \n",
    "    if i<10:\n",
    "        print(i)"
   ]
  },
  {
   "cell_type": "code",
   "execution_count": null,
   "metadata": {},
   "outputs": [],
   "source": []
  }
 ],
 "metadata": {
  "kernelspec": {
   "display_name": "Python 3",
   "language": "python",
   "name": "python3"
  },
  "language_info": {
   "codemirror_mode": {
    "name": "ipython",
    "version": 3
   },
   "file_extension": ".py",
   "mimetype": "text/x-python",
   "name": "python",
   "nbconvert_exporter": "python",
   "pygments_lexer": "ipython3",
   "version": "3.7.1"
  }
 },
 "nbformat": 4,
 "nbformat_minor": 2
}
