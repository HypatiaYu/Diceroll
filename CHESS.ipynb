{
 "cells": [
  {
   "cell_type": "code",
   "execution_count": 1,
   "metadata": {},
   "outputs": [],
   "source": [
    "grid = {'A8' : 'b', 'B8': 'n', 'C8': 'r', 'D8': 'k', 'E8': 'q', 'F8': 'r', 'G8': 'n', 'H8': 'b',\n",
    " 'A7': 'p', 'B7': 'p', 'C7': 'p', 'D7': 'p', 'E7': 'p', 'F7': 'p', 'G7': 'p', 'H7': 'p',\n",
    " 'A6': ' ', 'B6': ' ', 'C6': ' ', 'D6': ' ', 'E6': ' ', 'F6': ' ', 'G6': ' ', 'H6': ' ',\n",
    " 'A5': ' ', 'B5': ' ', 'C5': ' ', 'D5': ' ', 'E5': ' ', 'F5': ' ', 'G5': ' ', 'H5': ' ',\n",
    " 'A4': ' ', 'B4': ' ', 'C4': ' ', 'D4': ' ', 'E4': ' ', 'F4': ' ', 'G4': ' ', 'H4': ' ',\n",
    " 'A3': ' ', 'B3': ' ', 'C3': ' ', 'D3': ' ', 'E3': ' ', 'F3': ' ', 'G3': ' ', 'H3': ' ',\n",
    " 'A2': 'P', 'B2': 'P', 'C2': 'P', 'D2': 'P', 'E2': 'P', 'F2': 'P', 'G2': 'P', 'H2': 'P',\n",
    " 'A1': 'B', 'B1': 'N', 'C1': 'R', 'D1': 'Q', 'E1': 'K', 'F1': 'R', 'G1': 'N', 'H1': 'B'}"
   ]
  },
  {
   "cell_type": "code",
   "execution_count": 2,
   "metadata": {},
   "outputs": [],
   "source": [
    "def PRINTBOARD(grid): \n",
    "    print(' |A|B|C|D|E|F|G|H|')\n",
    "    print(' +-+-+-+-+-+-+-+-+')\n",
    "    print('8|' + grid['A8'] + '|' + grid['B8'] + '|'+ grid['C8'] + '|' + grid['D8'] + '|'+ grid['E8'] + '|'+ grid['F8'] + '|'+ grid['G8'] + '|' + grid['H8'] + '|8')\n",
    "    print(' +-+-+-+-+-+-+-+-+')\n",
    "    print('7|' + grid['A7'] + '|' + grid['B7'] + '|'+ grid['C7'] + '|' + grid['D7'] + '|'+ grid['E7'] + '|'+ grid['F7'] + '|'+ grid['G7'] + '|' + grid['H7'] + '|7')\n",
    "    print(' +-+-+-+-+-+-+-+-+')\n",
    "    print('6|' + grid['A6'] + '|' + grid['B6'] + '|'+ grid['C6'] + '|' + grid['D6'] + '|'+ grid['E6'] + '|'+ grid['F6'] + '|'+ grid['G6'] + '|' + grid['H6'] + '|6')\n",
    "    print(' +-+-+-+-+-+-+-+-+')\n",
    "    print('5|' + grid['A5'] + '|' + grid['B5'] + '|'+ grid['C5'] + '|' + grid['D5'] + '|'+ grid['E5'] + '|'+ grid['F5'] + '|'+ grid['G5'] + '|' + grid['H5'] + '|5')\n",
    "    print(' +-+-+-+-+-+-+-+-+')\n",
    "    print('4|' + grid['A4'] + '|' + grid['B4'] + '|'+ grid['C4'] + '|' + grid['D4'] + '|'+ grid['E4'] + '|'+ grid['F4'] + '|'+ grid['G4'] + '|' + grid['H4'] + '|4')\n",
    "    print(' +-+-+-+-+-+-+-+-+')\n",
    "    print('3|' + grid['A3'] + '|' + grid['B3'] + '|'+ grid['C3'] + '|' + grid['D3'] + '|'+ grid['E3'] + '|'+ grid['F3'] + '|'+ grid['G3'] + '|' + grid['H3'] + '|3')\n",
    "    print(' +-+-+-+-+-+-+-+-+')\n",
    "    print('2|' + grid['A2'] + '|' + grid['B2'] + '|'+ grid['C2'] + '|' + grid['D2'] + '|'+ grid['E2'] + '|'+ grid['F2'] + '|'+ grid['G2'] + '|' + grid['H2'] + '|2')\n",
    "    print(' +-+-+-+-+-+-+-+-+')\n",
    "    print('1|' + grid['A1'] + '|' + grid['B1'] + '|'+ grid['C1'] + '|' + grid['D1'] + '|'+ grid['E1'] + '|'+ grid['F1'] + '|'+ grid['G1'] + '|' + grid['H1'] + '|1')\n",
    "    print(' +-+-+-+-+-+-+-+-+')\n",
    "    print(' |A|B|C|D|E|F|G|H|')"
   ]
  },
  {
   "cell_type": "code",
   "execution_count": 3,
   "metadata": {},
   "outputs": [
    {
     "name": "stdout",
     "output_type": "stream",
     "text": [
      " |A|B|C|D|E|F|G|H|\n",
      " +-+-+-+-+-+-+-+-+\n",
      "8|b|n|r|k|q|r|n|b|8\n",
      " +-+-+-+-+-+-+-+-+\n",
      "7|p|p|p|p|p|p|p|p|7\n",
      " +-+-+-+-+-+-+-+-+\n",
      "6| | | | | | | | |6\n",
      " +-+-+-+-+-+-+-+-+\n",
      "5| | | | | | | | |5\n",
      " +-+-+-+-+-+-+-+-+\n",
      "4| | | | | | | | |4\n",
      " +-+-+-+-+-+-+-+-+\n",
      "3| | | | | | | | |3\n",
      " +-+-+-+-+-+-+-+-+\n",
      "2|P|P|P|P|P|P|P|P|2\n",
      " +-+-+-+-+-+-+-+-+\n",
      "1|B|N|R|Q|K|R|N|B|1\n",
      " +-+-+-+-+-+-+-+-+\n",
      " |A|B|C|D|E|F|G|H|\n"
     ]
    }
   ],
   "source": [
    "PRINTBOARD(grid)"
   ]
  },
  {
   "cell_type": "code",
   "execution_count": null,
   "metadata": {},
   "outputs": [
    {
     "name": "stdout",
     "output_type": "stream",
     "text": [
      "It's player 1's turn!\n"
     ]
    },
    {
     "name": "stdin",
     "output_type": "stream",
     "text": [
      "Where is the piece do you want to move? A8\n",
      "where do you want to move it to? A6\n"
     ]
    },
    {
     "name": "stdout",
     "output_type": "stream",
     "text": [
      " |A|B|C|D|E|F|G|H|\n",
      " +-+-+-+-+-+-+-+-+\n",
      "8| |n|r|k|q|r|n|b|8\n",
      " +-+-+-+-+-+-+-+-+\n",
      "7|p|p|p|p|p|p|p|p|7\n",
      " +-+-+-+-+-+-+-+-+\n",
      "6|b| | | | | | | |6\n",
      " +-+-+-+-+-+-+-+-+\n",
      "5| | | | | | | | |5\n",
      " +-+-+-+-+-+-+-+-+\n",
      "4| | | | | | | | |4\n",
      " +-+-+-+-+-+-+-+-+\n",
      "3| | | | | | | | |3\n",
      " +-+-+-+-+-+-+-+-+\n",
      "2|P|P|P|P|P|P|P|P|2\n",
      " +-+-+-+-+-+-+-+-+\n",
      "1|B|N|R|Q|K|R|N|B|1\n",
      " +-+-+-+-+-+-+-+-+\n",
      " |A|B|C|D|E|F|G|H|\n",
      "It's player 2's turn!\n"
     ]
    },
    {
     "name": "stdin",
     "output_type": "stream",
     "text": [
      "Where is the piece do you want to move? A2\n",
      "where do you want to move it to? A3\n"
     ]
    },
    {
     "name": "stdout",
     "output_type": "stream",
     "text": [
      " |A|B|C|D|E|F|G|H|\n",
      " +-+-+-+-+-+-+-+-+\n",
      "8| |n|r|k|q|r|n|b|8\n",
      " +-+-+-+-+-+-+-+-+\n",
      "7|p|p|p|p|p|p|p|p|7\n",
      " +-+-+-+-+-+-+-+-+\n",
      "6|b| | | | | | | |6\n",
      " +-+-+-+-+-+-+-+-+\n",
      "5| | | | | | | | |5\n",
      " +-+-+-+-+-+-+-+-+\n",
      "4| | | | | | | | |4\n",
      " +-+-+-+-+-+-+-+-+\n",
      "3|P| | | | | | | |3\n",
      " +-+-+-+-+-+-+-+-+\n",
      "2| |P|P|P|P|P|P|P|2\n",
      " +-+-+-+-+-+-+-+-+\n",
      "1|B|N|R|Q|K|R|N|B|1\n",
      " +-+-+-+-+-+-+-+-+\n",
      " |A|B|C|D|E|F|G|H|\n",
      "It's player 1's turn!\n"
     ]
    }
   ],
   "source": [
    "i = 0 \n",
    "\n",
    "while i < 100000: \n",
    "    if i % 2 ==0: \n",
    "        print(\"It's player 1's turn!\")\n",
    "        piece = input(\"Where is the piece do you want to move?\")\n",
    "        place = input(\"where do you want to move it to?\")\n",
    "        grid[place]=grid[piece]\n",
    "        grid[piece]= ' '\n",
    "        PRINTBOARD(grid)\n",
    "        i += 1 \n",
    "    else: \n",
    "        print(\"It's player 2's turn!\")\n",
    "        piece = input(\"Where is the piece do you want to move?\")\n",
    "        place = input(\"where do you want to move it to?\")\n",
    "        grid[place]=grid[piece]\n",
    "        grid[piece]= ' '\n",
    "        PRINTBOARD(grid)\n",
    "        i += 1 "
   ]
  },
  {
   "cell_type": "code",
   "execution_count": null,
   "metadata": {},
   "outputs": [],
   "source": [
    "PRINTBOARD(grid)"
   ]
  },
  {
   "cell_type": "code",
   "execution_count": null,
   "metadata": {},
   "outputs": [],
   "source": [
    "turn = \"1\"\n",
    "\n",
    "for i in range(10000):\n",
    "    PRINTBOARD(grid)\n",
    "    print(\"It's player\" + turn+ \"'s turn\")\n",
    "    piece = input(\"Where is the piece do you want to move?\")\n",
    "    place = input(\"where do you want to move it to?\")\n",
    "    grid[place]=grid[piece]\n",
    "    grid[piece]= ' '\n",
    "    PRINTBOARD(grid)"
   ]
  },
  {
   "cell_type": "code",
   "execution_count": null,
   "metadata": {},
   "outputs": [],
   "source": [
    "PRINTBOARD(grid)"
   ]
  },
  {
   "cell_type": "code",
   "execution_count": null,
   "metadata": {},
   "outputs": [],
   "source": []
  }
 ],
 "metadata": {
  "kernelspec": {
   "display_name": "Python 3",
   "language": "python",
   "name": "python3"
  },
  "language_info": {
   "codemirror_mode": {
    "name": "ipython",
    "version": 3
   },
   "file_extension": ".py",
   "mimetype": "text/x-python",
   "name": "python",
   "nbconvert_exporter": "python",
   "pygments_lexer": "ipython3",
   "version": "3.7.1"
  }
 },
 "nbformat": 4,
 "nbformat_minor": 2
}
