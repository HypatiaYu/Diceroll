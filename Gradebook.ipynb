{
 "cells": [
  {
   "cell_type": "code",
   "execution_count": null,
   "metadata": {},
   "outputs": [],
   "source": [
    "#Student Gradebook"
   ]
  },
  {
   "cell_type": "code",
   "execution_count": 1,
   "metadata": {},
   "outputs": [
    {
     "name": "stdin",
     "output_type": "stream",
     "text": [
      "What Student are you looking for? Amy Poehler\n"
     ]
    }
   ],
   "source": [
    "Midterm1 = {\"Amy Poehler\":80, \"Tina Fey\":95}\n",
    "Midterm2 = {\"Amy Poehler\":84, \"Tina Fey\":90}\n",
    "Final ={\"Amy Poehler\":83, \"Tina Fey\":94}\n",
    "Student_name =input(\"What Student are you looking for?\")"
   ]
  },
  {
   "cell_type": "markdown",
   "metadata": {},
   "source": [
    "Student_name =input(\"What Student are you looking for?\")"
   ]
  },
  {
   "cell_type": "code",
   "execution_count": 5,
   "metadata": {},
   "outputs": [
    {
     "name": "stdout",
     "output_type": "stream",
     "text": [
      "Amy Poehler got 82 for the class.\n"
     ]
    }
   ],
   "source": [
    "import statistics\n",
    "gradelist =[Midterm1[Student_name], Midterm2[Student_name]]\n",
    "Average =statistics.mean(gradelist)\n",
    "print(Student_name + \" got \" + str(Average) + \" for the class.\")"
   ]
  },
  {
   "cell_type": "code",
   "execution_count": 8,
   "metadata": {},
   "outputs": [
    {
     "name": "stdout",
     "output_type": "stream",
     "text": [
      "Amy Poehler got a B for the class.\n"
     ]
    }
   ],
   "source": [
    "if Average>80 and Average<90: \n",
    "    print(Student_name + \" got a B for the class.\")\n",
    "    \n",
    "elif Average <90: \n",
    "    print(Student_name + \" got an A for the class\")\n",
    "elif Average>70 and Average <80: \n",
    "    print(Student_name + \"got a C for the class\")\n",
    "else: \n",
    "    print(Student_name + \" failed the class \")"
   ]
  },
  {
   "cell_type": "code",
   "execution_count": 3,
   "metadata": {},
   "outputs": [
    {
     "name": "stdin",
     "output_type": "stream",
     "text": [
      "Would you like to input a grade? Y/N Y\n"
     ]
    }
   ],
   "source": [
    "Input_grade = input(\"Would you like to input a grade? Y/N\")"
   ]
  },
  {
   "cell_type": "code",
   "execution_count": 4,
   "metadata": {},
   "outputs": [
    {
     "name": "stdin",
     "output_type": "stream",
     "text": [
      "What is the student's name? Alice\n",
      "What did they get on the first midterm? 50\n",
      "What did they get on the second midterm? 60\n",
      "What did they get on the final? 70\n"
     ]
    }
   ],
   "source": [
    "if Input_grade== \"Y\":\n",
    "    Student = input(\"What is the student's name?\")\n",
    "    MT1 = int(input(\"What did they get on the first midterm?\"))\n",
    "    MT2 = int(input(\"What did they get on the second midterm?\"))\n",
    "    FIN = int(input(\"What did they get on the final?\"))\n",
    "    Midterm1[Student] = MT1\n",
    "    Midterm2[Student] = MT2\n",
    "    Final[Student]=FIN"
   ]
  },
  {
   "cell_type": "code",
   "execution_count": 5,
   "metadata": {},
   "outputs": [
    {
     "name": "stdout",
     "output_type": "stream",
     "text": [
      "50\n"
     ]
    }
   ],
   "source": [
    "print(Midterm1['Alice'])"
   ]
  },
  {
   "cell_type": "code",
   "execution_count": null,
   "metadata": {},
   "outputs": [],
   "source": []
  },
  {
   "cell_type": "code",
   "execution_count": null,
   "metadata": {},
   "outputs": [],
   "source": []
  }
 ],
 "metadata": {
  "kernelspec": {
   "display_name": "Python 3",
   "language": "python",
   "name": "python3"
  },
  "language_info": {
   "codemirror_mode": {
    "name": "ipython",
    "version": 3
   },
   "file_extension": ".py",
   "mimetype": "text/x-python",
   "name": "python",
   "nbconvert_exporter": "python",
   "pygments_lexer": "ipython3",
   "version": "3.7.1"
  }
 },
 "nbformat": 4,
 "nbformat_minor": 2
}
