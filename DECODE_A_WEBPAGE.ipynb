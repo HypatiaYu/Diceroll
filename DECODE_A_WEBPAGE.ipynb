{
 "cells": [
  {
   "cell_type": "code",
   "execution_count": 31,
   "metadata": {},
   "outputs": [],
   "source": [
    "import requests"
   ]
  },
  {
   "cell_type": "code",
   "execution_count": 32,
   "metadata": {},
   "outputs": [],
   "source": [
    "from bs4 import BeautifulSoup"
   ]
  },
  {
   "cell_type": "code",
   "execution_count": 33,
   "metadata": {},
   "outputs": [],
   "source": [
    "url = 'https://www.nytimes.com/'"
   ]
  },
  {
   "cell_type": "code",
   "execution_count": 34,
   "metadata": {},
   "outputs": [],
   "source": [
    "r = requests.get(url)\n",
    "r_html = r.text"
   ]
  },
  {
   "cell_type": "code",
   "execution_count": 40,
   "metadata": {},
   "outputs": [
    {
     "name": "stdout",
     "output_type": "stream",
     "text": [
      "[<h2 class=\"css-km70tz esl82me0\">In the ‘At War’ Newsletter</h2>, <h2 class=\"css-km70tz esl82me0\">Listen: ‘Modern Love’ Podcast</h2>, <h2 class=\"css-km70tz esl82me0\">The Daily Mini Crossword</h2>, <h2 class=\"css-1qwxefa esl82me0\"><span>Death Toll Rises as Israel-Gaza Clashes Intensify</span></h2>, <h2 class=\"css-1qwxefa esl82me0\"><span>Trump Objects to Mueller Testifying Before Congress</span></h2>, <h2 class=\"css-n2blzn esl82me0\">In Tiger Woods, Trump Finds a Hero and a Business Opportunity</h2>, <h2 class=\"css-n2blzn esl82me0\">The president named a former Obama administration official who supports many of Mr. Trump’s border policies to lead ICE.</h2>, <h2 class=\"css-1qwxefa esl82me0\"><span>Trump Threatens China With More Tariffs Ahead of Final Trade Talks</span></h2>, <h2 class=\"css-n2blzn esl82me0\">How Tariffs Work, and Why China Won’t See a Bill</h2>, <h2 class=\"css-1qwxefa esl82me0\"><span>Russian Plane Makes Fiery Emergency Landing, Killing 41</span></h2>, <h2 class=\"css-1qwxefa esl82me0\"><span>These Women Have Won State Races. They’re Sure They Can Beat Trump.</span></h2>, <h2 class=\"css-14bttnj esl82me0\"><span>What Is the Met Gala, and Who Gets to Go?</span></h2>, <h2 class=\"css-o2lisy esl82me0\">‘What Does Daddy Cry About?’</h2>, <h2 class=\"css-1m5bs2v esl82me0\">We Prosecute Murder Without the Victim’s Help. Why Not Domestic Violence?</h2>, <h2 class=\"css-1m5bs2v esl82me0\">When Is a Transplant Worth It?</h2>, <h2 class=\"css-1m5bs2v esl82me0\">A Spy by Any Name</h2>, <h2 class=\"css-1m5bs2v esl82me0\">Yes, This Is What Gifts Are Now</h2>, <h2 class=\"css-1m5bs2v esl82me0\">Trump Dials Up the Pressure on Iran</h2>, <h2 class=\"css-1m5bs2v esl82me0\">Fair Play Is No Match for Foul</h2>, <h2 class=\"css-1m5bs2v esl82me0\">Imprisoned for Trying to Save His Son</h2>, <h2 class=\"css-1m5bs2v esl82me0\">The Very Long, Very Male History of ‘Likability’</h2>, <h2 class=\"css-1m5bs2v esl82me0\">Why You Should Start Binge-Reading Immediately</h2>, <h2 class=\"css-1m5bs2v esl82me0\">A Century Ago, America Built Another Kind of Wall</h2>, <h2 class=\"css-14bttnj esl82me0\"><span>Your Questions About Food and Climate Change, Answered</span></h2>, <h2 class=\"css-n2blzn esl82me0\">Book Review: Europe’s Glorious Years of Peace and Prosperity</h2>, <h2 class=\"css-n2blzn esl82me0\">‘Game of Thrones’: Bran on His Future and the Night King’s Fate</h2>]\n"
     ]
    }
   ],
   "source": [
    "print(soup.find_all(class_ =\"esl82me0\"))"
   ]
  },
  {
   "cell_type": "code",
   "execution_count": 37,
   "metadata": {},
   "outputs": [
    {
     "name": "stdout",
     "output_type": "stream",
     "text": [
      "None\n"
     ]
    }
   ],
   "source": [
    "print(title)"
   ]
  },
  {
   "cell_type": "code",
   "execution_count": 41,
   "metadata": {},
   "outputs": [
    {
     "name": "stdout",
     "output_type": "stream",
     "text": [
      "<h2 class=\"css-km70tz esl82me0\">In the ‘At War’ Newsletter</h2>\n",
      "<h2 class=\"css-km70tz esl82me0\">Listen: ‘Modern Love’ Podcast</h2>\n",
      "<h2 class=\"css-km70tz esl82me0\">The Daily Mini Crossword</h2>\n",
      "<h2 class=\"css-1qwxefa esl82me0\"><span>Death Toll Rises as Israel-Gaza Clashes Intensify</span></h2>\n",
      "<h2 class=\"css-1qwxefa esl82me0\"><span>Trump Objects to Mueller Testifying Before Congress</span></h2>\n",
      "<h2 class=\"css-n2blzn esl82me0\">In Tiger Woods, Trump Finds a Hero and a Business Opportunity</h2>\n",
      "<h2 class=\"css-n2blzn esl82me0\">The president named a former Obama administration official who supports many of Mr. Trump’s border policies to lead ICE.</h2>\n",
      "<h2 class=\"css-1qwxefa esl82me0\"><span>Trump Threatens China With More Tariffs Ahead of Final Trade Talks</span></h2>\n",
      "<h2 class=\"css-n2blzn esl82me0\">How Tariffs Work, and Why China Won’t See a Bill</h2>\n",
      "<h2 class=\"css-1qwxefa esl82me0\"><span>Russian Plane Makes Fiery Emergency Landing, Killing 41</span></h2>\n",
      "<h2 class=\"css-1qwxefa esl82me0\"><span>These Women Have Won State Races. They’re Sure They Can Beat Trump.</span></h2>\n",
      "<h2 class=\"css-14bttnj esl82me0\"><span>What Is the Met Gala, and Who Gets to Go?</span></h2>\n",
      "<h2 class=\"css-o2lisy esl82me0\">‘What Does Daddy Cry About?’</h2>\n",
      "<h2 class=\"css-1m5bs2v esl82me0\">We Prosecute Murder Without the Victim’s Help. Why Not Domestic Violence?</h2>\n",
      "<h2 class=\"css-1m5bs2v esl82me0\">When Is a Transplant Worth It?</h2>\n",
      "<h2 class=\"css-1m5bs2v esl82me0\">A Spy by Any Name</h2>\n",
      "<h2 class=\"css-1m5bs2v esl82me0\">Yes, This Is What Gifts Are Now</h2>\n",
      "<h2 class=\"css-1m5bs2v esl82me0\">Trump Dials Up the Pressure on Iran</h2>\n",
      "<h2 class=\"css-1m5bs2v esl82me0\">Fair Play Is No Match for Foul</h2>\n",
      "<h2 class=\"css-1m5bs2v esl82me0\">Imprisoned for Trying to Save His Son</h2>\n",
      "<h2 class=\"css-1m5bs2v esl82me0\">The Very Long, Very Male History of ‘Likability’</h2>\n",
      "<h2 class=\"css-1m5bs2v esl82me0\">Why You Should Start Binge-Reading Immediately</h2>\n",
      "<h2 class=\"css-1m5bs2v esl82me0\">A Century Ago, America Built Another Kind of Wall</h2>\n",
      "<h2 class=\"css-14bttnj esl82me0\"><span>Your Questions About Food and Climate Change, Answered</span></h2>\n",
      "<h2 class=\"css-n2blzn esl82me0\">Book Review: Europe’s Glorious Years of Peace and Prosperity</h2>\n",
      "<h2 class=\"css-n2blzn esl82me0\">‘Game of Thrones’: Bran on His Future and the Night King’s Fate</h2>\n"
     ]
    }
   ],
   "source": [
    "for esl182me0 in soup.find_all(class_ =\"esl82me0\"): \n",
    "    print(esl182me0)"
   ]
  },
  {
   "cell_type": "code",
   "execution_count": 6,
   "metadata": {},
   "outputs": [],
   "source": [
    "soup = BeautifulSoup(r_html)"
   ]
  },
  {
   "cell_type": "code",
   "execution_count": null,
   "metadata": {},
   "outputs": [],
   "source": []
  }
 ],
 "metadata": {
  "kernelspec": {
   "display_name": "Python 3",
   "language": "python",
   "name": "python3"
  },
  "language_info": {
   "codemirror_mode": {
    "name": "ipython",
    "version": 3
   },
   "file_extension": ".py",
   "mimetype": "text/x-python",
   "name": "python",
   "nbconvert_exporter": "python",
   "pygments_lexer": "ipython3",
   "version": "3.7.1"
  }
 },
 "nbformat": 4,
 "nbformat_minor": 2
}
