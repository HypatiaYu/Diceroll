{
 "cells": [
  {
   "cell_type": "code",
   "execution_count": 16,
   "metadata": {},
   "outputs": [
    {
     "name": "stdout",
     "output_type": "stream",
     "text": [
      "Welcome to rock, paper, sissors! \n"
     ]
    },
    {
     "name": "stdin",
     "output_type": "stream",
     "text": [
      "play rock paper or sissors? Y/N Y\n"
     ]
    }
   ],
   "source": [
    "print(\"Welcome to rock, paper, sissors! \")\n",
    "\n",
    "play = input(\"play rock paper or sissors? Y/N\")\n",
    "\n"
   ]
  },
  {
   "cell_type": "code",
   "execution_count": 17,
   "metadata": {},
   "outputs": [
    {
     "name": "stdin",
     "output_type": "stream",
     "text": [
      "rock, paper, or sissors? paper\n"
     ]
    },
    {
     "name": "stdout",
     "output_type": "stream",
     "text": [
      "your opponent chose rock\n",
      "you win!\n"
     ]
    },
    {
     "name": "stdin",
     "output_type": "stream",
     "text": [
      "play rock paper or sissors? Y/N Y\n",
      "rock, paper, or sissors? paper\n"
     ]
    },
    {
     "name": "stdout",
     "output_type": "stream",
     "text": [
      "your opponent chose sissors\n",
      "you lose!\n"
     ]
    },
    {
     "name": "stdin",
     "output_type": "stream",
     "text": [
      "play rock paper or sissors? Y/N N\n"
     ]
    },
    {
     "name": "stdout",
     "output_type": "stream",
     "text": [
      "Another time then!\n"
     ]
    }
   ],
   "source": [
    "import random\n",
    "\n",
    "while play ==\"Y\":\n",
    "\n",
    "    player1 = input(\"rock, paper, or sissors?\")\n",
    "    player2 = random.randint(0,2)\n",
    "\n",
    "    if player2 ==0: \n",
    "        player2 = \"rock\"\n",
    "    elif player2 ==1: \n",
    "        player2 = \"paper\"\n",
    "    else: \n",
    "        player2 = \"sissors\"\n",
    "\n",
    "    print(\"your opponent chose \" + player2)\n",
    "    \n",
    "    if player1 == player2: \n",
    "        print(\" you tied!\")\n",
    "        play = input(\"play rock paper or sissors? Y/N\")\n",
    "    elif player1 == \"rock\" and player2 == \"sissors\":\n",
    "        print(\"you win!\")\n",
    "        play = input(\"play rock paper or sissors? Y/N\")\n",
    "    elif player1 ==\"paper\" and player2 ==\"rock\":\n",
    "        print(\"you win!\")\n",
    "        play = input(\"play rock paper or sissors? Y/N\")\n",
    "    elif player1 == \"sissors\" and player2 ==\"paper\":\n",
    "        print(\"you win!\")\n",
    "        play = input(\"play rock paper or sissors? Y/N\")\n",
    "    elif player2== \"rock\" and player1 == \"sissors\":\n",
    "        print(\"you lose!\")\n",
    "        play = input(\"play rock paper or sissors? Y/N\")\n",
    "    elif player2 ==\"paper\" and player1 ==\"rock\":\n",
    "        print(\"you lose!\")\n",
    "        play = input(\"play rock paper or sissors? Y/N\")\n",
    "    elif player2 == \"sissors\" and player1 ==\"paper\":\n",
    "        print(\"you lose!\")\n",
    "        play = input(\"play rock paper or sissors? Y/N\")\n",
    "    else: \n",
    "        print(\"something has gone horrifically wrong\")\n",
    "        play = input(\"play rock paper or sissors? Y/N\")\n",
    "        \n",
    "print(\"Another time then!\")"
   ]
  },
  {
   "cell_type": "code",
   "execution_count": 13,
   "metadata": {},
   "outputs": [
    {
     "name": "stdout",
     "output_type": "stream",
     "text": [
      "you lose!\n"
     ]
    }
   ],
   "source": []
  },
  {
   "cell_type": "code",
   "execution_count": null,
   "metadata": {},
   "outputs": [],
   "source": []
  }
 ],
 "metadata": {
  "kernelspec": {
   "display_name": "Python 3",
   "language": "python",
   "name": "python3"
  },
  "language_info": {
   "codemirror_mode": {
    "name": "ipython",
    "version": 3
   },
   "file_extension": ".py",
   "mimetype": "text/x-python",
   "name": "python",
   "nbconvert_exporter": "python",
   "pygments_lexer": "ipython3",
   "version": "3.7.1"
  }
 },
 "nbformat": 4,
 "nbformat_minor": 2
}
